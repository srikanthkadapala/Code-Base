{
 "cells": [
  {
   "cell_type": "markdown",
   "metadata": {},
   "source": [
    "# Universl Function (UFUNCS):\n",
    "\n",
    "The key to making it fast is to use vectorized operations, generally implemented through NumPy's universal functions (ufuncs).\n",
    "\n",
    "Python's default implementation (known as CPython) does some operations very slowly. This is in part due to the dynamic, interpreted nature of the language: the fact that types are flexible, so that sequences of operations cannot be compiled down to efficient machine code as in languages like C"
   ]
  },
  {
   "cell_type": "code",
   "execution_count": 6,
   "metadata": {},
   "outputs": [
    {
     "name": "stdout",
     "output_type": "stream",
     "text": [
      "[6 1 4 4 8]\n"
     ]
    },
    {
     "data": {
      "text/plain": [
       "array([0.16666667, 1.        , 0.25      , 0.25      , 0.125     ])"
      ]
     },
     "execution_count": 6,
     "metadata": {},
     "output_type": "execute_result"
    }
   ],
   "source": [
    "#Imagine we have an array of values and we'd like to compute the reciprocal of each. \n",
    "#A straightforward approach might look like this:\n",
    "\n",
    "import numpy as np\n",
    "np.random.seed(0)\n",
    "\n",
    "def compute_reciprocals(values):\n",
    "    output = np.empty(len(values))\n",
    "    for i in range(len(values)):\n",
    "        output[i] = 1.0/values[i]\n",
    "    return output\n",
    "\n",
    "values = np.random.randint(1, 10, size=5)\n",
    "print(values)\n",
    "compute_reciprocals(values)"
   ]
  },
  {
   "cell_type": "code",
   "execution_count": 2,
   "metadata": {},
   "outputs": [
    {
     "name": "stdout",
     "output_type": "stream",
     "text": [
      "6.92 s ± 502 ms per loop (mean ± std. dev. of 7 runs, 1 loop each)\n"
     ]
    }
   ],
   "source": [
    "#lets measure the execution time\n",
    "\n",
    "big_array = np.random.randint(1, 100, size=1000000)\n",
    "%timeit compute_reciprocals(big_array)"
   ]
  },
  {
   "cell_type": "code",
   "execution_count": 3,
   "metadata": {},
   "outputs": [
    {
     "name": "stdout",
     "output_type": "stream",
     "text": [
      "[0.16666667 1.         0.25       0.25       0.125     ]\n",
      "[0.16666667 1.         0.25       0.25       0.125     ]\n"
     ]
    }
   ],
   "source": [
    "#For many types of operations, NumPy provides a convenient interface into just this kind of statically typed, \n",
    "#compiled routine. This is known as a vectorized operation. \n",
    "#This can be accomplished by simply performing an operation on the array, \n",
    "#which will then be applied to each element. \n",
    "#This vectorized approach is designed to push the loop into the compiled layer that underlies NumPy, \n",
    "#leading to much faster execution.\n",
    "\n",
    "print(compute_reciprocals(values))\n",
    "print(1.0 / values)"
   ]
  },
  {
   "cell_type": "code",
   "execution_count": 4,
   "metadata": {},
   "outputs": [
    {
     "name": "stdout",
     "output_type": "stream",
     "text": [
      "14.5 ms ± 1.91 ms per loop (mean ± std. dev. of 7 runs, 100 loops each)\n"
     ]
    }
   ],
   "source": [
    "%timeit (1.0 / big_array)"
   ]
  },
  {
   "cell_type": "code",
   "execution_count": 6,
   "metadata": {},
   "outputs": [
    {
     "data": {
      "text/plain": [
       "array([ 0.        ,  0.5       ,  0.66666667,  0.75      ,  0.8       ])"
      ]
     },
     "execution_count": 6,
     "metadata": {},
     "output_type": "execute_result"
    }
   ],
   "source": [
    "#Vectorized operations in NumPy are implemented via ufuncs, whose main purpose is to quickly \n",
    "#execute repeated operations on values in NumPy arrays. \n",
    "\n",
    "#Ufuncs are extremely flexible – before we saw an operation between \n",
    "#a scalar and an array, but we can also operate between two arrays:\n",
    "\n",
    "np.arange(5) / np.arange(1, 6)"
   ]
  },
  {
   "cell_type": "code",
   "execution_count": 3,
   "metadata": {},
   "outputs": [
    {
     "data": {
      "text/plain": [
       "array([[  1,   2,   4],\n",
       "       [  8,  16,  32],\n",
       "       [ 64, 128, 256]], dtype=int32)"
      ]
     },
     "execution_count": 3,
     "metadata": {},
     "output_type": "execute_result"
    }
   ],
   "source": [
    "#And ufunc operations are not limited to one-dimensional arrays–they can also act on multi-dimensional arrays as well:\n",
    "\n",
    "x = np.arange(9).reshape((3, 3))\n",
    "2 ** x"
   ]
  },
  {
   "cell_type": "markdown",
   "metadata": {},
   "source": [
    "Computations using vectorization through ufuncs are nearly always more efficient than their counterpart implemented using Python loops, especially as the arrays grow in size. Any time you see such a loop in a Python script, you should consider whether it can be replaced with a vectorized expression."
   ]
  },
  {
   "cell_type": "markdown",
   "metadata": {},
   "source": [
    "# Exploring NumPy's UFuncs\n",
    "\n",
    "Ufuncs exist in two flavors: unary ufuncs, which operate on a single input, and binary ufuncs, which operate on two inputs."
   ]
  },
  {
   "cell_type": "code",
   "execution_count": 1,
   "metadata": {},
   "outputs": [
    {
     "name": "stdout",
     "output_type": "stream",
     "text": [
      "x     = [0 1 2 3]\n",
      "x + 5 = [5 6 7 8]\n",
      "x - 5 = [-5 -4 -3 -2]\n",
      "x * 2 = [0 2 4 6]\n",
      "x / 2 = [0.  0.5 1.  1.5]\n",
      "x // 2 = [0 0 1 1]\n"
     ]
    }
   ],
   "source": [
    "#Array arithmetic\n",
    "\n",
    "# The standard addition, subtraction, multiplication, and division can all be used:\n",
    "import numpy as np\n",
    "x = np.arange(4)\n",
    "print(\"x     =\", x)\n",
    "print(\"x + 5 =\", x + 5)\n",
    "print(\"x - 5 =\", x - 5)\n",
    "print(\"x * 2 =\", x * 2)\n",
    "print(\"x / 2 =\", x / 2)\n",
    "print(\"x // 2 =\", x // 2)"
   ]
  },
  {
   "cell_type": "code",
   "execution_count": 2,
   "metadata": {},
   "outputs": [
    {
     "name": "stdout",
     "output_type": "stream",
     "text": [
      "[0 1 2 3]\n",
      "8\n",
      "[2 3 4 5]\n"
     ]
    },
    {
     "data": {
      "text/plain": [
       "14"
      ]
     },
     "execution_count": 2,
     "metadata": {},
     "output_type": "execute_result"
    }
   ],
   "source": [
    "print(x)\n",
    "print(sum(x,2))\n",
    "print(np.add(x,2))\n",
    "sum(np.add(x,2))"
   ]
  },
  {
   "cell_type": "code",
   "execution_count": 9,
   "metadata": {},
   "outputs": [
    {
     "name": "stdout",
     "output_type": "stream",
     "text": [
      "-x     =  [ 0 -1 -2 -3]\n",
      "x ** 2 =  [0 1 4 9]\n",
      "x % 2  =  [0 1 0 1]\n"
     ]
    }
   ],
   "source": [
    "#There is also a unary ufunc for negation, and a ** operator for exponentiation, and a % operator for modulus:\n",
    "\n",
    "print(\"-x     = \", -x)\n",
    "print(\"x ** 2 = \", x ** 2)\n",
    "print(\"x % 2  = \", x % 2)"
   ]
  },
  {
   "cell_type": "code",
   "execution_count": 10,
   "metadata": {},
   "outputs": [
    {
     "data": {
      "text/plain": [
       "array([2, 3, 4, 5])"
      ]
     },
     "execution_count": 10,
     "metadata": {},
     "output_type": "execute_result"
    }
   ],
   "source": [
    "#Each of these arithmetic operations are simply convenient wrappers around specific functions built \n",
    "#into NumPy; for example, the + operator is a wrapper for the add function:\n",
    "\n",
    "np.add(x, 2)"
   ]
  },
  {
   "cell_type": "markdown",
   "metadata": {},
   "source": [
    "#The following table lists the arithmetic operators implemented in NumPy:\n",
    "\n",
    "#Operator\tEquivalent ufunc\tDescription\n",
    "#+  np.add\tAddition (e.g., 1 + 1 = 2)\n",
    "#-  np.subtract\tSubtraction (e.g., 3 - 2 = 1)\n",
    "#-  np.negative\tUnary negation (e.g., -2)\n",
    "#*  np.multiply\tMultiplication (e.g., 2 * 3 = 6)\n",
    "#/  np.divide\tDivision (e.g., 3 / 2 = 1.5)\n",
    "#// np.floor_divide\tFloor division (e.g., 3 // 2 = 1)\n",
    "#** np.power\tExponentiation (e.g., 2 ** 3 = 8)\n",
    "#%  np.mod\tModulus/remainder (e.g., 9 % 4 = 1)"
   ]
  },
  {
   "cell_type": "code",
   "execution_count": 12,
   "metadata": {},
   "outputs": [
    {
     "name": "stdout",
     "output_type": "stream",
     "text": [
      "[2 1 0 1 2]\n",
      "[2 1 0 1 2]\n",
      "[2 1 0 1 2]\n"
     ]
    }
   ],
   "source": [
    "#Absolute value\n",
    "\n",
    "x = np.array([-2, -1, 0, 1, 2])\n",
    "print(abs(x))\n",
    "\n",
    "#The corresponding NumPy ufunc is np.absolute, which is also available under the alias np.abs:\n",
    "\n",
    "print(np.absolute(x))\n",
    "print(np.abs(x))"
   ]
  },
  {
   "cell_type": "code",
   "execution_count": 13,
   "metadata": {},
   "outputs": [
    {
     "name": "stdout",
     "output_type": "stream",
     "text": [
      "theta      =  [ 0.          1.57079633  3.14159265]\n",
      "sin(theta) =  [  0.00000000e+00   1.00000000e+00   1.22464680e-16]\n",
      "cos(theta) =  [  1.00000000e+00   6.12323400e-17  -1.00000000e+00]\n",
      "tan(theta) =  [  0.00000000e+00   1.63312394e+16  -1.22464680e-16]\n"
     ]
    }
   ],
   "source": [
    "#Trigonometric functions\n",
    "\n",
    "theta = np.linspace(0, np.pi, 3)\n",
    "\n",
    "print(\"theta      = \", theta)\n",
    "print(\"sin(theta) = \", np.sin(theta))\n",
    "print(\"cos(theta) = \", np.cos(theta))\n",
    "print(\"tan(theta) = \", np.tan(theta))"
   ]
  },
  {
   "cell_type": "code",
   "execution_count": 14,
   "metadata": {},
   "outputs": [
    {
     "name": "stdout",
     "output_type": "stream",
     "text": [
      "x     = [1, 2, 3]\n",
      "e^x   = [  2.71828183   7.3890561   20.08553692]\n",
      "2^x   = [ 2.  4.  8.]\n",
      "3^x   = [ 3  9 27]\n"
     ]
    }
   ],
   "source": [
    "#Exponents and logarithms\n",
    "\n",
    "x = [1, 2, 3]\n",
    "print(\"x     =\", x)\n",
    "print(\"e^x   =\", np.exp(x))\n",
    "print(\"2^x   =\", np.exp2(x))\n",
    "print(\"3^x   =\", np.power(3, x))"
   ]
  },
  {
   "cell_type": "code",
   "execution_count": 6,
   "metadata": {},
   "outputs": [
    {
     "name": "stdout",
     "output_type": "stream",
     "text": [
      "x        = [1, 2, 4, 10]\n",
      "ln(x)    = [0.         0.69314718 1.38629436 2.30258509]\n",
      "log2(x)  = [0.         1.         2.         3.32192809]\n",
      "log10(x) = [0.         0.30103    0.60205999 1.        ]\n",
      "log10(x) = 1.6232492903979006\n",
      "log10(42) 1.6232492903979003\n"
     ]
    }
   ],
   "source": [
    "#The inverse of the exponentials, the logarithms, are also available. \n",
    "#The basic np.log gives the natural logarithm; \n",
    "#if you prefer to compute the base-2 logarithm or the base-10 logarithm, these are available as well:\n",
    "\n",
    "x = [1, 2, 4, 10]\n",
    "print(\"x        =\", x)\n",
    "print(\"ln(x)    =\", np.log(x))\n",
    "print(\"log2(x)  =\", np.log2(x))\n",
    "print(\"log10(x) =\", np.log10(x))\n",
    "\n",
    "\n",
    "#log_b(x)=log(x)/log(b)\n",
    "print(\"log10(x) =\", np.log10(42))\n",
    "print(\"log10(42)\", np.log(42)/np.log(10))"
   ]
  },
  {
   "cell_type": "code",
   "execution_count": 11,
   "metadata": {},
   "outputs": [
    {
     "name": "stdout",
     "output_type": "stream",
     "text": [
      "[  0.  10.  20.  30.  40.]\n"
     ]
    }
   ],
   "source": [
    "#Advanced Ufunc Features\n",
    "\n",
    "#Specifying output\n",
    "\n",
    "#For large calculations, it is sometimes useful to be able to specify the array where \n",
    "#the result of the calculation will be stored. Rather than creating a temporary array, \n",
    "#this can be used to write computation results directly to the memory location where \n",
    "#you'd like them to be. For all ufuncs, this can be done using the \"out\" argument of the function:\n",
    "\n",
    "x = np.arange(5)\n",
    "y = np.empty(5)\n",
    "np.multiply(x, 10, out=y)\n",
    "#y = np.multiply(x, 10)\n",
    "\n",
    "print(y)"
   ]
  },
  {
   "cell_type": "code",
   "execution_count": 24,
   "metadata": {},
   "outputs": [
    {
     "name": "stdout",
     "output_type": "stream",
     "text": [
      "1 loop, best of 3: 170 ms per loop\n",
      "100 loops, best of 3: 2.43 ms per loop\n"
     ]
    }
   ],
   "source": [
    "#However, because it executes the operation in compiled code, NumPy's version of the \n",
    "#operation is computed much more quickly:\n",
    "\n",
    "big_array = np.random.rand(1000000)\n",
    "%timeit sum(big_array)\n",
    "%timeit np.sum(big_array)"
   ]
  },
  {
   "cell_type": "code",
   "execution_count": 25,
   "metadata": {},
   "outputs": [
    {
     "data": {
      "text/plain": [
       "(7.0712031718933588e-07, 0.99999972076563337)"
      ]
     },
     "execution_count": 25,
     "metadata": {},
     "output_type": "execute_result"
    }
   ],
   "source": [
    "#Minimum and Maximum\n",
    "\n",
    "#Python has built-in min and max functions, used to find the minimum value and maximum value of any given array:\n",
    "\n",
    "min(big_array), max(big_array)\n",
    "\n"
   ]
  },
  {
   "cell_type": "code",
   "execution_count": 26,
   "metadata": {},
   "outputs": [
    {
     "data": {
      "text/plain": [
       "(7.0712031718933588e-07, 0.99999972076563337)"
      ]
     },
     "execution_count": 26,
     "metadata": {},
     "output_type": "execute_result"
    }
   ],
   "source": [
    "#NumPy's corresponding functions have similar syntax, and again operate much more quickly:\n",
    "\n",
    "np.min(big_array), np.max(big_array)"
   ]
  },
  {
   "cell_type": "code",
   "execution_count": 27,
   "metadata": {},
   "outputs": [
    {
     "name": "stdout",
     "output_type": "stream",
     "text": [
      "7.07120317189e-07 0.999999720766 500213.239662\n"
     ]
    }
   ],
   "source": [
    "#For min, max, sum, and several other NumPy aggregates, we use methods of the array object itself:\n",
    "print(big_array.min(), big_array.max(), big_array.sum())"
   ]
  },
  {
   "cell_type": "markdown",
   "metadata": {},
   "source": [
    "# Computation on Arrays: Broadcasting\n",
    "Another means of vectorizing operations is to use NumPy's broadcasting functionality. \n",
    "Broadcasting is simply a set of rules for applying binary ufuncs (e.g., addition, subtraction, multiplication, etc.) on arrays of different sizes."
   ]
  },
  {
   "cell_type": "code",
   "execution_count": 33,
   "metadata": {},
   "outputs": [
    {
     "data": {
      "text/plain": [
       "array([5, 6, 7])"
      ]
     },
     "execution_count": 33,
     "metadata": {},
     "output_type": "execute_result"
    }
   ],
   "source": [
    "#arrays of the same size, binary operations are performed on an element-by-element basis:\n",
    "a = np.array([0, 1, 2])\n",
    "b = np.array([5, 5, 5])\n",
    "a + b"
   ]
  },
  {
   "cell_type": "code",
   "execution_count": 34,
   "metadata": {},
   "outputs": [
    {
     "data": {
      "text/plain": [
       "array([5, 6, 7])"
      ]
     },
     "execution_count": 34,
     "metadata": {},
     "output_type": "execute_result"
    }
   ],
   "source": [
    "#Broadcasting allows these types of binary operations to be performed on arrays of \n",
    "#different sizes–for example, we can just as easily add a scalar \n",
    "#(think of it as a zero-dimensional array) to an array:\n",
    "a + 5"
   ]
  },
  {
   "cell_type": "code",
   "execution_count": 5,
   "metadata": {},
   "outputs": [
    {
     "name": "stdout",
     "output_type": "stream",
     "text": [
      "Two Dimensional Array :\n",
      " [[1. 1. 1.]\n",
      " [1. 1. 1.]\n",
      " [1. 1. 1.]]\n",
      "One Dimensional Array :\n",
      " [0 1 1]\n",
      "Broadcasting :\n",
      " [[1. 2. 2.]\n",
      " [1. 2. 2.]\n",
      " [1. 2. 2.]]\n"
     ]
    }
   ],
   "source": [
    "#We can similarly extend this to arrays of higher dimension. Observe the result when we \n",
    "#add a one-dimensional array to a two-dimensional array:\n",
    "import numpy as np\n",
    "M = np.ones((3, 3))\n",
    "a = np.array([0, 1,1])\n",
    "#a1 = np.array([[0, 1,1],[0, 1,1]])\n",
    "print(\"Two Dimensional Array :\\n\",M)\n",
    "print(\"One Dimensional Array :\\n\",a)\n",
    "print(\"Broadcasting :\\n\", M + a)\n",
    "#print(\"Broadcasting :\\n\", M + a1)\n"
   ]
  },
  {
   "cell_type": "code",
   "execution_count": 14,
   "metadata": {},
   "outputs": [
    {
     "name": "stdout",
     "output_type": "stream",
     "text": [
      "1\n",
      "2\n",
      "(3,)\n",
      "(3, 1)\n",
      "[0 1 2]\n",
      "[[0]\n",
      " [1]\n",
      " [2]]\n",
      "[[0 1 2]\n",
      " [1 2 3]\n",
      " [2 3 4]]\n"
     ]
    }
   ],
   "source": [
    "###### a = np.arange(3)\n",
    "b = np.arange(3).reshape(3,1)\n",
    "\n",
    "print(a.ndim)\n",
    "print(b.ndim)\n",
    "print(a.shape)\n",
    "print(b.shape)\n",
    "print(a)\n",
    "print(b)\n",
    "print(a + b)"
   ]
  },
  {
   "cell_type": "markdown",
   "metadata": {},
   "source": [
    "# Rules of Broadcasting\n",
    "\n",
    "Broadcasting in NumPy follows a strict set of rules to determine the interaction between the two arrays:\n",
    "\n",
    "#1. If the two arrays differ in their number of dimensions, the shape of the one with fewer dimensions is padded with ones on its leading (left) side.\n",
    "#2. If the shape of the two arrays does not match in any dimension, the array with shape equal to 1 in that dimension is stretched to match the other shape.\n",
    "#3. If in any dimension the sizes disagree and neither is equal to 1, an error is raised."
   ]
  },
  {
   "cell_type": "code",
   "execution_count": 45,
   "metadata": {},
   "outputs": [
    {
     "name": "stdout",
     "output_type": "stream",
     "text": [
      "M Shape : (2, 3)\n",
      "a Shape : (3,)\n",
      "M:\n",
      " [[ 1.  1.  1.]\n",
      " [ 1.  1.  1.]]\n",
      "a:\n",
      " [0 1 2]\n",
      "a + M:\n",
      " [[ 1.  2.  3.]\n",
      " [ 1.  2.  3.]]\n"
     ]
    }
   ],
   "source": [
    "M = np.ones((2, 3))\n",
    "a = np.arange(3)\n",
    "\n",
    "print(\"M Shape :\",M.shape)\n",
    "print(\"a Shape :\",a.shape)\n",
    "\n",
    "# by rule 1 that the array a has fewer dimensions, so we pad it on the left with ones:\n",
    "\n",
    "#M.shape -> (2, 3)\n",
    "#a.shape -> (1, 3)\n",
    "\n",
    "#By rule 2, we now see that the first dimension disagrees, so we stretch this dimension to match:\n",
    "\n",
    "#M.shape -> (2, 3)\n",
    "#a.shape -> (2, 3)\n",
    "\n",
    "#The shapes match, and we see that the final shape will be (2, 3):\n",
    "\n",
    "print(\"M:\\n\",M)\n",
    "print(\"a:\\n\",a)\n",
    "print(\"a + M:\\n\", a+M)"
   ]
  },
  {
   "cell_type": "code",
   "execution_count": 46,
   "metadata": {},
   "outputs": [
    {
     "name": "stdout",
     "output_type": "stream",
     "text": [
      "a:\n",
      " [[0]\n",
      " [1]\n",
      " [2]]\n",
      "b:\n",
      " [0 1 2]\n",
      "a+b:\n",
      " [[0 1 2]\n",
      " [1 2 3]\n",
      " [2 3 4]]\n"
     ]
    }
   ],
   "source": [
    "#Let's take a look at an example where both arrays need to be broadcast:\n",
    "\n",
    "a = np.arange(3).reshape((3, 1))\n",
    "b = np.arange(3)\n",
    "\n",
    "#Again, we'll start by writing out the shape of the arrays:\n",
    "\n",
    "#a.shape = (3, 1)\n",
    "#b.shape = (3,)\n",
    "\n",
    "#Rule 1 says we must pad the shape of b with ones:\n",
    "\n",
    "#a.shape -> (3, 1)\n",
    "#b.shape -> (1, 3)\n",
    "\n",
    "#And rule 2 tells us that we upgrade each of these ones to match the corresponding size of the other array:\n",
    "\n",
    "#a.shape -> (3, 3)\n",
    "#b.shape -> (3, 3)\n",
    "#Because the result matches, these shapes are compatible. We can see this here:\n",
    "print(\"a:\\n\",a)\n",
    "print(\"b:\\n\",b)\n",
    "print(\"a+b:\\n\",a+b)"
   ]
  },
  {
   "cell_type": "code",
   "execution_count": 4,
   "metadata": {},
   "outputs": [
    {
     "name": "stdout",
     "output_type": "stream",
     "text": [
      "[[ 0  1  2  3  4  5]\n",
      " [ 6  7  8  9 10 11]]\n",
      "[[0 1 2]\n",
      " [3 4 5]]\n"
     ]
    },
    {
     "ename": "ValueError",
     "evalue": "operands could not be broadcast together with shapes (2,6) (2,3) ",
     "output_type": "error",
     "traceback": [
      "\u001b[1;31m---------------------------------------------------------------------------\u001b[0m",
      "\u001b[1;31mValueError\u001b[0m                                Traceback (most recent call last)",
      "\u001b[1;32m<ipython-input-4-7aec35ddaada>\u001b[0m in \u001b[0;36m<module>\u001b[1;34m()\u001b[0m\n\u001b[0;32m      3\u001b[0m \u001b[0mprint\u001b[0m\u001b[1;33m(\u001b[0m\u001b[0ma\u001b[0m\u001b[1;33m)\u001b[0m\u001b[1;33m\u001b[0m\u001b[0m\n\u001b[0;32m      4\u001b[0m \u001b[0mprint\u001b[0m\u001b[1;33m(\u001b[0m\u001b[0mb\u001b[0m\u001b[1;33m)\u001b[0m\u001b[1;33m\u001b[0m\u001b[0m\n\u001b[1;32m----> 5\u001b[1;33m \u001b[0ma\u001b[0m\u001b[1;33m*\u001b[0m \u001b[0mb\u001b[0m\u001b[1;33m\u001b[0m\u001b[0m\n\u001b[0m",
      "\u001b[1;31mValueError\u001b[0m: operands could not be broadcast together with shapes (2,6) (2,3) "
     ]
    }
   ],
   "source": [
    "a = np.arange(12).reshape((2, 6))\n",
    "b = np.arange(6).reshape((2, 3))\n",
    "print(a)\n",
    "print(b)\n",
    "a* b"
   ]
  },
  {
   "cell_type": "code",
   "execution_count": 47,
   "metadata": {},
   "outputs": [
    {
     "ename": "ValueError",
     "evalue": "operands could not be broadcast together with shapes (3,2) (3,) ",
     "output_type": "error",
     "traceback": [
      "\u001b[1;31m---------------------------------------------------------------------------\u001b[0m",
      "\u001b[1;31mValueError\u001b[0m                                Traceback (most recent call last)",
      "\u001b[1;32m<ipython-input-47-14d102482917>\u001b[0m in \u001b[0;36m<module>\u001b[1;34m()\u001b[0m\n\u001b[0;32m     22\u001b[0m \u001b[1;31m#as we can observe by attempting this operation:\u001b[0m\u001b[1;33m\u001b[0m\u001b[1;33m\u001b[0m\u001b[0m\n\u001b[0;32m     23\u001b[0m \u001b[1;33m\u001b[0m\u001b[0m\n\u001b[1;32m---> 24\u001b[1;33m \u001b[0mM\u001b[0m\u001b[1;33m+\u001b[0m \u001b[0ma\u001b[0m\u001b[1;33m\u001b[0m\u001b[0m\n\u001b[0m",
      "\u001b[1;31mValueError\u001b[0m: operands could not be broadcast together with shapes (3,2) (3,) "
     ]
    }
   ],
   "source": [
    "#Now let's take a look at an example in which the two arrays are not compatible:\n",
    "\n",
    "M = np.ones((3, 2))\n",
    "a = np.arange(3)\n",
    "\n",
    "#This is just a slightly different situation than in the first example: \n",
    "#the matrix M is transposed. How does this affect the calculation? The shape of the arrays are\n",
    "\n",
    "#M.shape = (3, 2)\n",
    "#a.shape = (3,)\n",
    "#Again, rule 1 tells us that we must pad the shape of a with ones:\n",
    "\n",
    "#M.shape -> (3, 2)\n",
    "#a.shape -> (1, 3)\n",
    "\n",
    "#By rule 2, the first dimension of a is stretched to match that of M:\n",
    "\n",
    "#M.shape -> (3, 2)\n",
    "#a.shape -> (3, 3)\n",
    "\n",
    "#Now we hit rule 3–the final shapes do not match, so these two arrays are incompatible, \n",
    "#as we can observe by attempting this operation:\n",
    "\n",
    "M+ a"
   ]
  },
  {
   "cell_type": "code",
   "execution_count": 2,
   "metadata": {},
   "outputs": [
    {
     "name": "stdout",
     "output_type": "stream",
     "text": [
      "Original Array :\n",
      " [[5 0 3 3]\n",
      " [7 9 3 5]\n",
      " [2 4 7 6]]\n",
      "How many values less than 6 :\n",
      " 8\n",
      "How many values less than 6 :\n",
      " 8\n",
      "How many values less than 6 in each row:\n",
      " [2 2 2 2]\n"
     ]
    }
   ],
   "source": [
    "#Working with Boolean Array\n",
    "import numpy as np\n",
    "rng = np.random.RandomState(0)\n",
    "x = rng.randint(10, size=(3, 4))\n",
    "\n",
    "print(\"Original Array :\\n\",x)\n",
    "\n",
    "print(\"How many values less than 6 :\\n\",np.count_nonzero(x < 6))\n",
    "\n",
    "#Another Way\n",
    "print(\"How many values less than 6 :\\n\",np.sum(x < 6))\n",
    "\n",
    "print(\"How many values less than 6 in each row:\\n\",\n",
    "      np.sum(x < 6,axis = 0))"
   ]
  },
  {
   "cell_type": "code",
   "execution_count": 10,
   "metadata": {},
   "outputs": [
    {
     "data": {
      "text/plain": [
       "array([[ True,  True,  True,  True],\n",
       "       [False, False,  True,  True],\n",
       "       [ True,  True, False, False]])"
      ]
     },
     "execution_count": 10,
     "metadata": {},
     "output_type": "execute_result"
    }
   ],
   "source": [
    "x < 6"
   ]
  },
  {
   "cell_type": "code",
   "execution_count": 4,
   "metadata": {},
   "outputs": [
    {
     "name": "stdout",
     "output_type": "stream",
     "text": [
      "Array \n",
      " [[5 0 3 3]\n",
      " [7 9 3 5]\n",
      " [2 4 7 6]]\n",
      "Are there any value greater than 8? :\n",
      " True\n",
      "Are all values less than 10? :\n",
      " True\n",
      "Are all values greater than 10? :\n",
      " False\n"
     ]
    }
   ],
   "source": [
    "#If we're interested in quickly checking whether any or all the values are true, \n",
    "#we can use \"np.any\" or \"np.all\":\n",
    "print(\"Array \\n\", x)\n",
    "print(\"Are there any value greater than 8? :\\n\",np.any(x > 8))\n",
    "print(\"Are all values less than 10? :\\n\",np.all(x < 10))\n",
    "print(\"Are all values greater than 10? :\\n\",np.all(x > 10))"
   ]
  },
  {
   "cell_type": "code",
   "execution_count": 8,
   "metadata": {},
   "outputs": [
    {
     "name": "stdout",
     "output_type": "stream",
     "text": [
      "[[5 0 3 3]\n",
      " [7 9 3 5]\n",
      " [2 4 7 6]]\n",
      "Are all values in each row less than 8? [ True False  True  True]\n"
     ]
    }
   ],
   "source": [
    "#np.all and np.any can be used along particular axes as well. For example:\n",
    "print(x)\n",
    "print(\"Are all values in each row less than 8?\",np.all(x < 8, \n",
    "                                                       axis=0))"
   ]
  },
  {
   "cell_type": "markdown",
   "metadata": {},
   "source": [
    "## Advance Array Manipulation\n",
    "\n",
    "While much of the heavy lifting for data analysis applications is handled by higher level functions in pandas, you may at some point need to write a data algorithm that is not found in one of the existing libraries."
   ]
  },
  {
   "cell_type": "markdown",
   "metadata": {},
   "source": [
    "### 1. Reshaping Arrays\n",
    "\n",
    "Given what we know about NumPy arrays, it should come as little surprise that you can convert an array  from one shape to another without copying any data. To do this, pass a tuple indicating the new shape to the reshape array instance method. For example, suppose we had a one-dimensional array of values that we wished to rearrange into a matrix:"
   ]
  },
  {
   "cell_type": "code",
   "execution_count": 13,
   "metadata": {},
   "outputs": [
    {
     "name": "stdout",
     "output_type": "stream",
     "text": [
      "Array is:  [0 1 2 3 4 5 6 7]\n",
      "Dimension of Array is:  1\n",
      "Reshaped Array: \n",
      " [[0 1]\n",
      " [2 3]\n",
      " [4 5]\n",
      " [6 7]]\n",
      "Reshaped multidimensional Array: \n",
      " [[0 1 2 3]\n",
      " [4 5 6 7]]\n",
      "Reshaped multidimensional Array: \n",
      " [[[0 1]\n",
      "  [2 3]]\n",
      "\n",
      " [[4 5]\n",
      "  [6 7]]]\n",
      "Reshaped multidimensional Array: \n",
      " [[0 1]\n",
      " [2 3]\n",
      " [4 5]\n",
      " [6 7]]\n",
      "Reshaped multidimensional Array: \n",
      " [0 1 2 3 4 5 6 7]\n"
     ]
    },
    {
     "data": {
      "text/plain": [
       "(8,)"
      ]
     },
     "execution_count": 13,
     "metadata": {},
     "output_type": "execute_result"
    }
   ],
   "source": [
    "\n",
    "\n",
    "arr = np.arange(8)\n",
    "print(\"Array is: \",arr)\n",
    "print(\"Dimension of Array is: \", arr.ndim)\n",
    "\n",
    "#Reshape the array\n",
    "print(\"Reshaped Array: \\n\",arr.reshape((4, 2)))\n",
    "\n",
    "\n",
    "##A multidimensional array can also be reshaped:\n",
    "\n",
    "print(\"Reshaped multidimensional Array: \\n\",\n",
    "      arr.reshape((4, 2)).reshape(2,4))\n",
    "\n",
    "print(\"Reshaped multidimensional Array: \\n\",\n",
    "      arr.reshape((4, 2)).reshape(2,2,2))\n",
    "\n",
    "print(\"Reshaped multidimensional Array: \\n\",\n",
    "      arr.reshape((2,2, 2)).reshape(4,2))\n",
    "\n",
    "print(\"Reshaped multidimensional Array: \\n\",\n",
    "      arr.reshape((2,2, 2)).reshape(8,))\n",
    "\n",
    "temp = arr.reshape((2,2, 2)).reshape(8,)\n",
    "temp.shape"
   ]
  },
  {
   "cell_type": "markdown",
   "metadata": {},
   "source": [
    "\n",
    "     One of the passed shape dimensions can be -1, in which case the value used for that dimension will be inferred from the data:"
   ]
  },
  {
   "cell_type": "code",
   "execution_count": 4,
   "metadata": {},
   "outputs": [
    {
     "name": "stdout",
     "output_type": "stream",
     "text": [
      "One Dimensional array: \n",
      " [ 0  1  2  3  4  5  6  7  8  9 10 11 12 13 14]\n",
      "5 rows: \n",
      " [[ 0  1  2]\n",
      " [ 3  4  5]\n",
      " [ 6  7  8]\n",
      " [ 9 10 11]\n",
      " [12 13 14]]\n",
      "3 cols: \n",
      " [[ 0  1  2]\n",
      " [ 3  4  5]\n",
      " [ 6  7  8]\n",
      " [ 9 10 11]\n",
      " [12 13 14]]\n",
      "3 cols: \n",
      " [[[0 1]\n",
      "  [2 3]]\n",
      "\n",
      " [[4 5]\n",
      "  [6 7]]]\n"
     ]
    }
   ],
   "source": [
    "import numpy as np\n",
    "arr = np.arange(15)\n",
    "\n",
    "print(\"One Dimensional array: \\n\",arr)\n",
    "\n",
    "print(\"5 rows: \\n\",arr.reshape((5, -1)))\n",
    "\n",
    "print(\"3 cols: \\n\",arr.reshape((-1, 3)))\n",
    "\n",
    "\n",
    "arr1 = np.arange(8)\n",
    "print(\"3 cols: \\n\",arr1.reshape((-1,2,2)))\n"
   ]
  },
  {
   "cell_type": "markdown",
   "metadata": {},
   "source": [
    "The opposite operation of reshape from one-dimensional to a higher dimension is typically known as flattening or raveling:"
   ]
  },
  {
   "cell_type": "code",
   "execution_count": 7,
   "metadata": {},
   "outputs": [
    {
     "name": "stdout",
     "output_type": "stream",
     "text": [
      "Two Dimensional Array :\n",
      " [[ 0  1  2]\n",
      " [ 3  4  5]\n",
      " [ 6  7  8]\n",
      " [ 9 10 11]\n",
      " [12 13 14]]\n",
      "Ravelling Array :\n",
      " [ 0  1  2  3  4  5  6  7  8  9 10 11 12 13 14]\n",
      "[[ 0  1  2]\n",
      " [ 3  4  5]\n",
      " [ 6  7  8]\n",
      " [ 9 10 11]\n",
      " [12 13 14]]\n",
      "Flatten Array :\n",
      " [ 0  1  2  3  4  5  6  7  8  9 10 11 12 13 14]\n",
      "[ 0  1  2  3  8  5  6  7  8  9 10 11 12 13 14]\n",
      "[ 0  1  2  3  4  5  6  7  8  9 10 11 12 13 14]\n"
     ]
    }
   ],
   "source": [
    "arr = np.arange(15).reshape((5, 3))\n",
    "\n",
    "print(\"Two Dimensional Array :\\n\",arr)\n",
    "\n",
    "rav = arr.ravel()\n",
    "print(\"Ravelling Array :\\n\",rav)\n",
    "print(arr)\n",
    "\n",
    "#ravel does not produce a copy of the underlying data if it does not have \n",
    "#to. The flatten \n",
    "#method behaves like ravel except it always returns a copy of the data:\n",
    "flat = arr.flatten()\n",
    "print(\"Flatten Array :\\n\",flat)\n",
    "\n",
    "arr[1,1] = 8\n",
    "print(rav)\n",
    "print(flat)"
   ]
  },
  {
   "cell_type": "markdown",
   "metadata": {},
   "source": [
    "## 2.Concatinating:\n",
    "\n",
    "numpy.concatenate takes a sequence (tuple, list, etc.) of arrays and joins them together in order along the input axis.\n",
    "\n"
   ]
  },
  {
   "cell_type": "code",
   "execution_count": 35,
   "metadata": {},
   "outputs": [
    {
     "name": "stdout",
     "output_type": "stream",
     "text": [
      "Array1 :\n",
      " [[1 2 3]\n",
      " [4 5 6]]\n",
      "Array2 :\n",
      " [[ 7  8  9]\n",
      " [10 11 12]]\n",
      "Concatinated Array ROw wise: \n",
      " [[ 1  2  3]\n",
      " [ 4  5  6]\n",
      " [ 7  8  9]\n",
      " [10 11 12]]\n",
      "Concatinated Array Column wise: \n",
      " [[ 1  2  3  7  8  9]\n",
      " [ 4  5  6 10 11 12]]\n"
     ]
    }
   ],
   "source": [
    "arr1 = np.array([[1, 2, 3], [4, 5, 6]])\n",
    "arr2 = np.array([[7, 8, 9], [10, 11, 12]])\n",
    "\n",
    "print(\"Array1 :\\n\",arr1)\n",
    "print(\"Array2 :\\n\",arr2)\n",
    "print(\"Concatinated Array ROw wise: \\n\",\n",
    "      np.concatenate([arr1, arr2], axis=0))\n",
    "print(\"Concatinated Array Column wise: \\n\",\n",
    "      np.concatenate([arr1, arr2],axis=1))"
   ]
  },
  {
   "cell_type": "code",
   "execution_count": 37,
   "metadata": {},
   "outputs": [
    {
     "name": "stdout",
     "output_type": "stream",
     "text": [
      "Vertical Stack :\n",
      " [[ 1  2  3]\n",
      " [ 4  5  6]\n",
      " [ 7  8  9]\n",
      " [10 11 12]]\n",
      "Horizontal Stack :\n",
      " [[ 1  2  3  7  8  9]\n",
      " [ 4  5  6 10 11 12]]\n"
     ]
    }
   ],
   "source": [
    "#There are some convenience functions, like vstack and hstack, for common kinds of concatenation. \n",
    "#The above operations could have been expressed as:\n",
    "\n",
    "print(\"Vertical Stack :\\n\",np.vstack((arr1, arr2)))\n",
    "print(\"Horizontal Stack :\\n\",np.hstack((arr1, arr2)))"
   ]
  },
  {
   "cell_type": "markdown",
   "metadata": {},
   "source": [
    "# Fancy Indexing\n",
    "Fancy indexing is like the simple indexing we've already seen, but we pass arrays of indices in place of single scalars. This allows us to very quickly access and modify complicated subsets of an array's values."
   ]
  },
  {
   "cell_type": "code",
   "execution_count": 61,
   "metadata": {},
   "outputs": [
    {
     "name": "stdout",
     "output_type": "stream",
     "text": [
      "[51 92 14 71 60 20 82 86 74 74]\n"
     ]
    }
   ],
   "source": [
    "rand = np.random.RandomState(42)\n",
    "\n",
    "x = rand.randint(100, size=10)\n",
    "print(x)"
   ]
  },
  {
   "cell_type": "code",
   "execution_count": 63,
   "metadata": {},
   "outputs": [
    {
     "data": {
      "text/plain": [
       "[71, 86, 14]"
      ]
     },
     "execution_count": 63,
     "metadata": {},
     "output_type": "execute_result"
    }
   ],
   "source": [
    "[x[3], x[7], x[2]]"
   ]
  },
  {
   "cell_type": "code",
   "execution_count": 65,
   "metadata": {},
   "outputs": [
    {
     "data": {
      "text/plain": [
       "array([71, 86, 60])"
      ]
     },
     "execution_count": 65,
     "metadata": {},
     "output_type": "execute_result"
    }
   ],
   "source": [
    "#Alternatively, we can pass a single list or array of indices to obtain the same result:\n",
    "\n",
    "ind = [3, 7, 4]\n",
    "x[ind]"
   ]
  },
  {
   "cell_type": "code",
   "execution_count": 67,
   "metadata": {},
   "outputs": [
    {
     "data": {
      "text/plain": [
       "array([[71, 86],\n",
       "       [60, 20]])"
      ]
     },
     "execution_count": 67,
     "metadata": {},
     "output_type": "execute_result"
    }
   ],
   "source": [
    "#When using fancy indexing, the shape of the result reflects the shape of the index arrays\n",
    "#rather than the shape of the array being indexed:\n",
    "\n",
    "ind = np.array([[3, 7],\n",
    "                [4, 5]])\n",
    "x[ind]"
   ]
  },
  {
   "cell_type": "code",
   "execution_count": 69,
   "metadata": {},
   "outputs": [
    {
     "data": {
      "text/plain": [
       "array([[ 0,  1,  2,  3],\n",
       "       [ 4,  5,  6,  7],\n",
       "       [ 8,  9, 10, 11]])"
      ]
     },
     "execution_count": 69,
     "metadata": {},
     "output_type": "execute_result"
    }
   ],
   "source": [
    "#Fancy indexing also works in multiple dimensions. Consider the following array:\n",
    "\n",
    "X = np.arange(12).reshape((3, 4))\n",
    "X"
   ]
  },
  {
   "cell_type": "code",
   "execution_count": 70,
   "metadata": {},
   "outputs": [
    {
     "data": {
      "text/plain": [
       "array([ 2,  5, 11])"
      ]
     },
     "execution_count": 70,
     "metadata": {},
     "output_type": "execute_result"
    }
   ],
   "source": [
    "row = np.array([0, 1, 2])\n",
    "col = np.array([2, 1, 3])\n",
    "X[row, col]"
   ]
  },
  {
   "cell_type": "markdown",
   "metadata": {},
   "source": [
    "#  NumPy's Structured Arrays\n",
    "\n",
    "We have seen homogeneous array so far.. It is possible to create structured array using Numpy, which provides efficient storage for hetrogeneous data.   \n",
    "\n",
    "Imagine that we have several categories of data on a number of people (say, name, age, and weight), and we'd like to store these values for use in a Python program. It would be possible to store these in three separate arrays:"
   ]
  },
  {
   "cell_type": "code",
   "execution_count": 8,
   "metadata": {},
   "outputs": [],
   "source": [
    "import numpy as np\n",
    "\n",
    "\n",
    "name = ['Alice', 'Bob', 'Cathy', 'Doug']\n",
    "age = [25, 45, 37, 19]\n",
    "weight = [55.0, 85.5, 68.0, 61.5]"
   ]
  },
  {
   "cell_type": "markdown",
   "metadata": {},
   "source": [
    "There's nothing here that tells us that the three arrays are related; it would be more natural if we could use a single structure to store all of this data. NumPy can handle this through structured arrays, which are arrays with compound data types."
   ]
  },
  {
   "cell_type": "code",
   "execution_count": 79,
   "metadata": {},
   "outputs": [
    {
     "name": "stdout",
     "output_type": "stream",
     "text": [
      "[('name', '<U10'), ('age', '<i4'), ('weight', '<f8')]\n"
     ]
    }
   ],
   "source": [
    "#Create a simple array\n",
    "x = np.zeros(4, dtype=int)\n",
    "\n",
    "#Create a compound Array (structured arrays)\n",
    "\n",
    "data = np.zeros(4, dtype={'names':('name', 'age', 'weight'),\n",
    "                          'formats':('U10', 'i4', 'f8')})\n",
    "print(data.dtype)\n"
   ]
  },
  {
   "cell_type": "markdown",
   "metadata": {},
   "source": [
    "Here 'U10' translates to \"Unicode string of maximum length 10,\" 'i4' translates to \"4-byte (i.e., 32 bit) integer,\" and 'f8' translates to \"8-byte (i.e., 64 bit) float."
   ]
  },
  {
   "cell_type": "code",
   "execution_count": 82,
   "metadata": {},
   "outputs": [
    {
     "name": "stdout",
     "output_type": "stream",
     "text": [
      "[('Alice', 25,  55. ) ('Bob', 45,  85.5) ('Cathy', 37,  68. )\n",
      " ('Doug', 19,  61.5)]\n",
      "<class 'numpy.ndarray'>\n"
     ]
    }
   ],
   "source": [
    "#Now that we've created an empty container array, we can fill the array with our lists of values:\n",
    "\n",
    "data['name'] = name\n",
    "data['age'] = age\n",
    "data['weight'] = weight\n",
    "print(data)\n",
    "print(type(data))"
   ]
  },
  {
   "cell_type": "code",
   "execution_count": 83,
   "metadata": {},
   "outputs": [
    {
     "data": {
      "text/plain": [
       "array(['Alice', 'Bob', 'Cathy', 'Doug'], \n",
       "      dtype='<U10')"
      ]
     },
     "execution_count": 83,
     "metadata": {},
     "output_type": "execute_result"
    }
   ],
   "source": [
    "# Get all names\n",
    "data['name']"
   ]
  },
  {
   "cell_type": "code",
   "execution_count": 84,
   "metadata": {},
   "outputs": [
    {
     "data": {
      "text/plain": [
       "('Alice', 25,  55.)"
      ]
     },
     "execution_count": 84,
     "metadata": {},
     "output_type": "execute_result"
    }
   ],
   "source": [
    "# Get first row of data\n",
    "data[0]"
   ]
  },
  {
   "cell_type": "code",
   "execution_count": 85,
   "metadata": {},
   "outputs": [
    {
     "data": {
      "text/plain": [
       "'Doug'"
      ]
     },
     "execution_count": 85,
     "metadata": {},
     "output_type": "execute_result"
    }
   ],
   "source": [
    "# Get the name from the last row\n",
    "data[-1]['name']"
   ]
  },
  {
   "cell_type": "code",
   "execution_count": 86,
   "metadata": {},
   "outputs": [
    {
     "data": {
      "text/plain": [
       "array(['Alice', 'Doug'], \n",
       "      dtype='<U10')"
      ]
     },
     "execution_count": 86,
     "metadata": {},
     "output_type": "execute_result"
    }
   ],
   "source": [
    "# Get names where age is under 30\n",
    "data[data['age'] < 30]['name']"
   ]
  },
  {
   "cell_type": "markdown",
   "metadata": {},
   "source": [
    "Pandas provides a Dataframe object, which is a structure built on NumPy arrays that offers a variety of useful data manipulation functionality"
   ]
  }
 ],
 "metadata": {
  "kernelspec": {
   "display_name": "Python 3",
   "language": "python",
   "name": "python3"
  },
  "language_info": {
   "codemirror_mode": {
    "name": "ipython",
    "version": 3
   },
   "file_extension": ".py",
   "mimetype": "text/x-python",
   "name": "python",
   "nbconvert_exporter": "python",
   "pygments_lexer": "ipython3",
   "version": "3.7.1"
  }
 },
 "nbformat": 4,
 "nbformat_minor": 2
}
