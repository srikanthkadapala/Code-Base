{
 "cells": [
  {
   "cell_type": "code",
   "execution_count": 1,
   "metadata": {},
   "outputs": [],
   "source": [
    "import xlrd\n",
    "import xlwt\n",
    "import json\n",
    "import os.path\n",
    "import datetime\n",
    "from io import BytesIO\n",
    "\n",
    "def getColNames(sheet):\n",
    "\trowSize = sheet.row_len(0)\n",
    "\tcolValues = sheet.row_values(0, 0, rowSize )\n",
    "\tcolumnNames = []\n",
    "\n",
    "\tfor value in colValues:\n",
    "\t\tcolumnNames.append(value)\n",
    "\n",
    "\treturn columnNames\n"
   ]
  },
  {
   "cell_type": "code",
   "execution_count": 2,
   "metadata": {},
   "outputs": [],
   "source": [
    "def getRowData(row, columnNames):\n",
    "\trowData = {}\n",
    "\tcounter = 0\n",
    "\n",
    "\tfor cell in row:\n",
    "\t\t# check if it is of date type print in iso format\n",
    "\t\tif cell.ctype==xlrd.XL_CELL_DATE:\n",
    "\t\t\trowData[columnNames[counter].lower().replace(' ', '_')] = datetime.datetime(*xlrd.xldate_as_tuple(cell.value,0)).isoformat()\n",
    "\t\telse:\n",
    "\t\t\trowData[columnNames[counter].lower().replace(' ', '_')] = cell.value\n",
    "\t\tcounter +=1\n",
    "\n",
    "\treturn rowData"
   ]
  },
  {
   "cell_type": "code",
   "execution_count": 3,
   "metadata": {},
   "outputs": [],
   "source": [
    "def getSheetData(sheet, columnNames):\n",
    "\tnRows = sheet.nrows\n",
    "\tsheetData = []\n",
    "\tcounter = 1\n",
    "\n",
    "\tfor idx in range(1, nRows):\n",
    "\t\trow = sheet.row(idx)\n",
    "\t\trowData = getRowData(row, columnNames)\n",
    "\t\tsheetData.append(rowData)\n",
    "\n",
    "\treturn sheetData"
   ]
  },
  {
   "cell_type": "code",
   "execution_count": 4,
   "metadata": {},
   "outputs": [],
   "source": [
    "def getWorkBookData(workbook):\n",
    "\tnsheets = workbook.nsheets\n",
    "\tcounter = 0\n",
    "\tworkbookdata = {}\n",
    "\n",
    "\tfor idx in range(0, nsheets):\n",
    "\t\tworksheet = workbook.sheet_by_index(idx)\n",
    "\t\tcolumnNames = getColNames(worksheet)\n",
    "\t\tsheetdata = getSheetData(worksheet, columnNames)\n",
    "\t\tworkbookdata[worksheet.name.lower().replace(' ', '_')] = sheetdata\n",
    "\n",
    "\treturn workbookdata"
   ]
  },
  {
   "cell_type": "code",
   "execution_count": 5,
   "metadata": {},
   "outputs": [
    {
     "name": "stdout",
     "output_type": "stream",
     "text": [
      "/home/administrator/Data files/Churn.json was created\n"
     ]
    }
   ],
   "source": [
    "def main():\n",
    "\tfilename = \"/home/administrator/Data files/Churn.xlsx\"  ## file path\n",
    "\tif os.path.isfile(filename):\n",
    "\t\tworkbook = xlrd.open_workbook(filename)\n",
    "\t\tworkbookdata = getWorkBookData(workbook)\n",
    "\t\toutput = \\\n",
    "\t\topen((filename.replace(\"xlsx\", \"json\")).replace(\"xls\", \"json\"), \"wb\")\n",
    "\t\tworkbookdata = str(workbookdata)        \n",
    "\t\tworkbookdata = bytes(workbookdata,'utf-8')        \n",
    "\t\tworkbookdata = str(workbookdata) \n",
    "\t\tworkbookdata = json.dumps(workbookdata) \n",
    "\t\tworkbookdata = workbookdata.encode() \n",
    "##\t\toutput.write(json.dumps(workbookdata, sort_keys=True, indent=2,  separators=(',', \": \")))  #writing to json file\n",
    "\t\toutput.write((workbookdata))\n",
    "\t\t#print(workbookdata1)\n",
    "\t\toutput.close()\n",
    "\t\tprint(\"%s was created\" %output.name)\n",
    "\telse:\n",
    "\t\tprint(\"Sorry, that was not a valid filename\")\n",
    "\n",
    "main()"
   ]
  }
 ],
 "metadata": {
  "kernelspec": {
   "display_name": "Python 3",
   "language": "python",
   "name": "python3"
  },
  "language_info": {
   "codemirror_mode": {
    "name": "ipython",
    "version": 3
   },
   "file_extension": ".py",
   "mimetype": "text/x-python",
   "name": "python",
   "nbconvert_exporter": "python",
   "pygments_lexer": "ipython3",
   "version": "3.6.8"
  }
 },
 "nbformat": 4,
 "nbformat_minor": 2
}
