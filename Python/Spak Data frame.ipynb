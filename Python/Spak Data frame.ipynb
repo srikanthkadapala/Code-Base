{
 "cells": [
  {
   "cell_type": "code",
   "execution_count": 1,
   "metadata": {},
   "outputs": [],
   "source": [
    "import findspark\n",
    "findspark.init()\n",
    "findspark.find()\n",
    "import pyspark\n",
    "import datetime as dt\n",
    "from pyspark import SparkContext, SparkConf\n",
    "from pyspark.sql import SparkSession\n",
    "conf = pyspark.SparkConf().setAppName(\"appName\").setMaster(\"local\")\n",
    "sc = pyspark.SparkContext(conf=conf)\n",
    "spark = SparkSession(sc)"
   ]
  },
  {
   "cell_type": "code",
   "execution_count": null,
   "metadata": {},
   "outputs": [],
   "source": [
    "y = spark.read.csv(\"hdfs://172.16.1.114:8020/user/hive/warehouse/workingDirectory/500000_Records.csv\",inferSchema = True,header = True)"
   ]
  },
  {
   "cell_type": "code",
   "execution_count": null,
   "metadata": {},
   "outputs": [],
   "source": [
    "from pyspark.sql import SQLContext\n",
    "sqlContext = SQLContext(sc)"
   ]
  },
  {
   "cell_type": "code",
   "execution_count": null,
   "metadata": {},
   "outputs": [],
   "source": [
    "#y.printSchema()  # Give the structure of the DF column names and data type\n",
    "#y.show() # Give top n rows by default top 20 records \n",
    "#y.count() # number of rows of the DF \n",
    "#y.select('Emp ID', 'First Name').show() # select particular column \n",
    "#y.describe('Age in Company (Years)').show() #give summary of the col ie count, mean, stddev,min,max can be done for any data type\n",
    "#y.filter(y.Zip == '98821').count() # filter can be using filter or where condition \n",
    "#y.where(y.Zip == '98821').count()  # filter can be using filter or where condition \n",
    " \n",
    "y.registerTempTable('Hr_data')  ## creating a temp table to run quries\n",
    "sqlContext.sql('select * from Hr_data').show() # running the quries on the temp table\n",
    "\n"
   ]
  }
 ],
 "metadata": {
  "kernelspec": {
   "display_name": "Python 3",
   "language": "python",
   "name": "python3"
  },
  "language_info": {
   "codemirror_mode": {
    "name": "ipython",
    "version": 3
   },
   "file_extension": ".py",
   "mimetype": "text/x-python",
   "name": "python",
   "nbconvert_exporter": "python",
   "pygments_lexer": "ipython3",
   "version": "3.6.8"
  }
 },
 "nbformat": 4,
 "nbformat_minor": 2
}
