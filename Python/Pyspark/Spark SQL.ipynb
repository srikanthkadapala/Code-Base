{
 "cells": [
  {
   "cell_type": "code",
   "execution_count": 1,
   "metadata": {},
   "outputs": [],
   "source": [
    "import findspark\n",
    "findspark.init()\n",
    "findspark.find()\n",
    "import pyspark\n",
    "import datetime as dt\n",
    "from pyspark import SparkContext, SparkConf\n",
    "from pyspark.sql import SparkSession\n",
    "conf = pyspark.SparkConf().setAppName(\"appName\").setMaster(\"local\")\n",
    "sc = pyspark.SparkContext(conf=conf)\n",
    "spark = SparkSession(sc)\n",
    "import pandas as pd"
   ]
  },
  {
   "cell_type": "code",
   "execution_count": 4,
   "metadata": {},
   "outputs": [],
   "source": [
    "y = spark.read.csv(\"hdfs://172.16.1.114:8020/user/hive/warehouse/workingDirectory/500000_Records.csv\",inferSchema = True,header = True)"
   ]
  },
  {
   "cell_type": "code",
   "execution_count": 2,
   "metadata": {},
   "outputs": [],
   "source": [
    "from pyspark.sql import SQLContext\n",
    "sqlContext = SQLContext(sc)"
   ]
  },
  {
   "cell_type": "code",
   "execution_count": 12,
   "metadata": {},
   "outputs": [
    {
     "name": "stdout",
     "output_type": "stream",
     "text": [
      "root\n",
      " |-- Emp ID: integer (nullable = true)\n",
      " |-- Name Prefix: string (nullable = true)\n",
      " |-- First Name: string (nullable = true)\n",
      " |-- Middle Initial: string (nullable = true)\n",
      " |-- Last Name: string (nullable = true)\n",
      " |-- Gender: string (nullable = true)\n",
      " |-- E Mail: string (nullable = true)\n",
      " |-- Father's Name: string (nullable = true)\n",
      " |-- Mother's Name: string (nullable = true)\n",
      " |-- Mother's Maiden Name: string (nullable = true)\n",
      " |-- Date of Birth: string (nullable = true)\n",
      " |-- Time of Birth: string (nullable = true)\n",
      " |-- Age in Yrs.: double (nullable = true)\n",
      " |-- Weight in Kgs.: integer (nullable = true)\n",
      " |-- Date of Joining: string (nullable = true)\n",
      " |-- Quarter of Joining: string (nullable = true)\n",
      " |-- Half of Joining: string (nullable = true)\n",
      " |-- Year of Joining: integer (nullable = true)\n",
      " |-- Month of Joining: integer (nullable = true)\n",
      " |-- Month Name of Joining: string (nullable = true)\n",
      " |-- Short Month: string (nullable = true)\n",
      " |-- Day of Joining: integer (nullable = true)\n",
      " |-- DOW of Joining: string (nullable = true)\n",
      " |-- Short DOW: string (nullable = true)\n",
      " |-- Age in Company (Years): double (nullable = true)\n",
      " |-- Salary: integer (nullable = true)\n",
      " |-- Last % Hike: string (nullable = true)\n",
      " |-- SSN: string (nullable = true)\n",
      " |-- Phone No. : string (nullable = true)\n",
      " |-- Place Name: string (nullable = true)\n",
      " |-- County: string (nullable = true)\n",
      " |-- City: string (nullable = true)\n",
      " |-- State: string (nullable = true)\n",
      " |-- Zip: integer (nullable = true)\n",
      " |-- Region: string (nullable = true)\n",
      " |-- User Name: string (nullable = true)\n",
      " |-- Password: string (nullable = true)\n",
      "\n"
     ]
    }
   ],
   "source": [
    "y.printSchema()  # Give the structure of the DF column names and data type\n",
    "#y.show() # Give top n rows by default top 20 records \n",
    "#y.count() # number of rows of the DF \n",
    "#y.select('Emp ID', 'First Name').show() # select particular column \n",
    "#y.describe('Age in Company (Years)').show() #give summary of the col ie count, mean, stddev,min,max can be done for any data type\n",
    "#y.filter(y.Zip == '98821').count() # filter/where can be used for filter \n",
    "#y.where(y.Zip == '98821').count()  # filter/where can be used for filter\n",
    " \n",
    "#y.registerTempTable('Hr_data')  ## creating a temp table to run quries\n",
    "#sqlContext.sql('select * from Hr_data').show() # running the quries on the temp table\n",
    "#y.select('Age in Company (Years)').show()\n",
    "#y.describe('Age in Company (Years)').show() "
   ]
  },
  {
   "cell_type": "code",
   "execution_count": 16,
   "metadata": {},
   "outputs": [
    {
     "name": "stdout",
     "output_type": "stream",
     "text": [
      "+----------------------+------+-----+\n",
      "|Age in Company (Years)|Emp ID|  Zip|\n",
      "+----------------------+------+-----+\n",
      "|                  2.19|358257|98821|\n",
      "|                 19.87|137101|98821|\n",
      "|                  1.88|256672|98821|\n",
      "|                  3.43|494393|98821|\n",
      "|                  0.57|278405|98821|\n",
      "|                 23.72|989557|98821|\n",
      "|                  0.93|527044|98821|\n",
      "|                  2.98|914073|98821|\n",
      "|                   7.8|782321|98821|\n",
      "|                  2.67|528861|98821|\n",
      "|                  0.56|337454|98821|\n",
      "+----------------------+------+-----+\n",
      "\n"
     ]
    },
    {
     "data": {
      "text/plain": [
       "str"
      ]
     },
     "execution_count": 16,
     "metadata": {},
     "output_type": "execute_result"
    }
   ],
   "source": [
    "#import pandas as pd\n",
    "\n",
    "ages = y.select('Age in Company (Years)','Emp ID','Zip').filter(y.Zip == '98821').show()\n",
    "type('ages')\n",
    "\n",
    "#ages = list[ages.iloc(Age in Company (Years))]\n",
    "#ages.iloc[0:,0:]\n",
    "#ages.iloc[0:,0:]\n",
    "#print('vekat')\n",
    "\n",
    "#a = ages\n",
    "\n",
    "#a.iloc[0:,0:]\n"
   ]
  },
  {
   "cell_type": "code",
   "execution_count": 1,
   "metadata": {},
   "outputs": [],
   "source": [
    "import xlrd\n",
    "import xlwt\n",
    "import json\n",
    "import os.path\n",
    "import datetime"
   ]
  }
 ],
 "metadata": {
  "kernelspec": {
   "display_name": "Python 3",
   "language": "python",
   "name": "python3"
  },
  "language_info": {
   "codemirror_mode": {
    "name": "ipython",
    "version": 3
   },
   "file_extension": ".py",
   "mimetype": "text/x-python",
   "name": "python",
   "nbconvert_exporter": "python",
   "pygments_lexer": "ipython3",
   "version": "3.6.8"
  }
 },
 "nbformat": 4,
 "nbformat_minor": 2
}
